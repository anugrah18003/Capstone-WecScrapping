{
 "cells": [
  {
   "cell_type": "markdown",
   "metadata": {},
   "source": [
    "# Capstone Webscrapping using BeautifulSoup\n",
    "\n",
    "This notebook contains guidances & tasks on the data processing for the application\n",
    "\n",
    "## background\n",
    "\n",
    "Dalam perdagangan internasional membutuhkan kelancaran dalam transaksi supaya tidak memerlukan waktu yang banyak. Valuta asing merupakan alat yang bisa memperlancar transaksi perdagangan internasional sehingga proses jual beli berjalan dengan lancar tanpa terkendala dengan mata uang yang dimiliki masing-masing negara. Oleh karena itu, setiap negara yang ingin bertransaksi di perdagangan internasional memerlukan kurs valuta asing.\n",
    "Kurs dan valuta asing merupakan indikator atau parameter yang digunakan oleh perorangan, badan, dan negara dalam melakukan transaksi ekonomi.\n",
    "Kurs salah satu istilah yang sering digunakan dalam bidang keuangan dan dikenal dengan sebutan nilai tukar (exchange rate). Menurut Kamus Besar Bahasa Indonesia (KBBI) kurs adalah nilai mata uang yang dimiliki sebuah negara yang dinyatakan dengan nilai mata uang negara yang lain.\n",
    "Secara umum, kurs dapat diartikan sebagai harga nilai mata uang yang dapat diukur dengan nilai mata uang luar negeri serta bisa dibeli atau ditukar dengan mata uang lain.\n",
    "Kurs mata uang yang dimiliki oleh suatu negara akan terus berubah sehingga membutuhkan sebuah alat untuk mengendalikan perubahan pada kurs mata uang negara lain dan alat itu adalah kurs valuta asing. Penggunaan kurs valuta asing tertentu pada suatu negara, maka negara tersebut bisa mengatasi atau mengendalikan nilai tukar mata uang menjadi lebih mudah.\n",
    "\n",
    "Pada kasus ini akan membahas riwayat kurs antara Rupiah Indonesia (IDR) dan Dolar Amerika Serikat (USD) terbaru. Data kurs US Dollar ke rupiah bersumber dari website `https://www.exchange-rates.org/history/IDR/USD/T`.\n",
    "\n",
    "\n",
    "## Requesting the Data and Creating a BeautifulSoup\n",
    "\n",
    "Let's begin with requesting the web from the site with `get` method."
   ]
  },
  {
   "cell_type": "code",
   "execution_count": 1,
   "metadata": {
    "ExecuteTime": {
     "end_time": "2020-01-13T05:12:23.275508Z",
     "start_time": "2020-01-13T05:12:20.009898Z"
    }
   },
   "outputs": [],
   "source": [
    "import requests\n",
    "\n",
    "url_get = requests.get('https://www.exchange-rates.org/history/IDR/USD/T')"
   ]
  },
  {
   "cell_type": "markdown",
   "metadata": {},
   "source": [
    "To visualize what exactly you get from the `request.get`, we can use .content so ee what we exactly get, in here i slice it so it won't make our screen full of the html we get from the page. You can delete the slicing if you want to see what we fully get."
   ]
  },
  {
   "cell_type": "code",
   "execution_count": 2,
   "metadata": {
    "ExecuteTime": {
     "end_time": "2020-01-13T05:12:23.290648Z",
     "start_time": "2020-01-13T05:12:23.277650Z"
    }
   },
   "outputs": [
    {
     "data": {
      "text/plain": [
       "b'!DOCTYPE html>\\r\\n<!--[if lt IE 9]>\\r\\n<html class=\"no-js ie8 oldie\" lang=\"en\" xml:lang=\\'en\\'>\\r\\n<![endif]-->\\r\\n<!--[if gt IE 8]><!--><html class=\"no-js\" lang=\"en\" xml:lang=\\'en\\'><!--<![endif]-->\\r\\n<head>\\r\\n<title>Indonesian Rupiah Exchange Rate - US Dollar - Historical Exchange Rates</title>\\r\\n<meta http-equiv=\"X-UA-Compatible\" content=\"IE=edge\">\\r\\n<meta name=\"viewport\" content=\"width=device-width, initial-scale=1, maximum-scale=5\">\\r\\n<meta charset=\"utf-8\" /><meta http-equiv=\"Content-Type\" content=\"text/ht'"
      ]
     },
     "execution_count": 2,
     "metadata": {},
     "output_type": "execute_result"
    }
   ],
   "source": [
    "url_get.content[1:500]"
   ]
  },
  {
   "cell_type": "markdown",
   "metadata": {},
   "source": [
    "As we can see we get a very unstructured and complex html, which actually contains the codes needed to show the webpages on your web browser. But we as human still confused what and where we can use that piece of code, so here where we use the beautifulsoup. Beautiful soup class will result a beautifulsoup object. Beautiful Soup transforms a complex HTML document into a complex tree of Python objects. \n",
    "\n",
    "Let's make Beautiful soup object and feel free to explore the object here."
   ]
  },
  {
   "cell_type": "code",
   "execution_count": 3,
   "metadata": {
    "ExecuteTime": {
     "end_time": "2020-01-13T05:12:23.808122Z",
     "start_time": "2020-01-13T05:12:23.292610Z"
    }
   },
   "outputs": [],
   "source": [
    "from bs4 import BeautifulSoup \n",
    "\n",
    "soup = BeautifulSoup(url_get.content,\"html.parser\")"
   ]
  },
  {
   "cell_type": "markdown",
   "metadata": {},
   "source": [
    "## Finding the right key to scrap the data & Extracting the right information"
   ]
  },
  {
   "cell_type": "markdown",
   "metadata": {},
   "source": [
    "Find the key and put the key into the `.find()` Put all the exploring the right key at this cell. (please change this markdown with your explanation)"
   ]
  },
  {
   "cell_type": "code",
   "execution_count": 4,
   "metadata": {
    "ExecuteTime": {
     "end_time": "2020-01-13T05:12:23.878904Z",
     "start_time": "2020-01-13T05:12:23.854974Z"
    }
   },
   "outputs": [
    {
     "name": "stdout",
     "output_type": "stream",
     "text": [
      "table class=\"table table-striped table-hover table-hover-solid-row table-simple history-data\">\n",
      " <tbody>\n",
      "  <tr>\n",
      "   <td>\n",
      "    1/6/2022\n",
      "   </td>\n",
      "   <td>\n",
      "    Thursday\n",
      "   </td>\n",
      "   <td>\n",
      "    <a href=\"/Rate/USD/IDR/1-6-2022\">\n",
      "     14,387.13904\n",
      "    </a>\n",
      "    IDR\n",
      "   </td>\n",
      "   <td class=\"text-narrow-screen-hidden\">\n",
      "    <a href=\"/Rate/USD/IDR/1-6-2022\">\n",
      "     USD IDR rate for 1/6/2022\n",
      "    </a>\n",
      "   </td>\n",
      "  </tr>\n",
      "  <tr>\n",
      "   <td>\n",
      "    1/5/2022\n",
      "   </td>\n",
      "   <td>\n",
      "    Wednesday\n",
      "   </td>\n",
      "   <td>\n",
      "    <a href=\"/Rate/USD/ID\n"
     ]
    }
   ],
   "source": [
    "table = soup.find('table', attrs={'class':'table table-striped table-hover table-hover-solid-row table-simple history-data'})\n",
    "print(table.prettify()[1:500])"
   ]
  },
  {
   "cell_type": "markdown",
   "metadata": {},
   "source": [
    "Seperti yang dapat kita lihat pada hasil diatas data berada di beris dengan kunci 'td', maka akan dicari keseluruhan data menggunakan key 'td'"
   ]
  },
  {
   "cell_type": "code",
   "execution_count": 5,
   "metadata": {},
   "outputs": [],
   "source": [
    "row = table.find_all('td')"
   ]
  },
  {
   "cell_type": "markdown",
   "metadata": {},
   "source": [
    "Setelah didapatkan fungsi row yang berisi data scrapping akan dilihat 10 baris pertama dari row dengan menggunakan subsetting."
   ]
  },
  {
   "cell_type": "code",
   "execution_count": 6,
   "metadata": {},
   "outputs": [
    {
     "data": {
      "text/plain": [
       "[<td>1/6/2022</td>,\n",
       " <td>Thursday</td>,\n",
       " <td><a href=\"/Rate/USD/IDR/1-6-2022\">14,387.13904</a> IDR</td>,\n",
       " <td class=\"text-narrow-screen-hidden\"><a href=\"/Rate/USD/IDR/1-6-2022\">USD IDR rate for 1/6/2022</a></td>,\n",
       " <td>1/5/2022</td>,\n",
       " <td>Wednesday</td>,\n",
       " <td><a href=\"/Rate/USD/IDR/1-5-2022\">14,376.59427</a> IDR</td>,\n",
       " <td class=\"text-narrow-screen-hidden\"><a href=\"/Rate/USD/IDR/1-5-2022\">USD IDR rate for 1/5/2022</a></td>,\n",
       " <td>1/4/2022</td>,\n",
       " <td>Tuesday</td>]"
      ]
     },
     "execution_count": 6,
     "metadata": {},
     "output_type": "execute_result"
    }
   ],
   "source": [
    "row[:10]"
   ]
  },
  {
   "cell_type": "markdown",
   "metadata": {},
   "source": [
    "Namun terdapat suatu permasalah untuk dari dengan index 2 atau secara keseluruhan pada kolom 3, karena data yang didapat akan mengandung jenis mata uang (IDR), maka akan dilakukan subsetting untung menghilangkan kata IDR."
   ]
  },
  {
   "cell_type": "code",
   "execution_count": 7,
   "metadata": {},
   "outputs": [
    {
     "data": {
      "text/plain": [
       "'14,387.13904 IDR'"
      ]
     },
     "execution_count": 7,
     "metadata": {},
     "output_type": "execute_result"
    }
   ],
   "source": [
    "row[2].text"
   ]
  },
  {
   "cell_type": "code",
   "execution_count": 8,
   "metadata": {},
   "outputs": [
    {
     "data": {
      "text/plain": [
       "'14,387.13904'"
      ]
     },
     "execution_count": 8,
     "metadata": {},
     "output_type": "execute_result"
    }
   ],
   "source": [
    "row[2].text[:-4]"
   ]
  },
  {
   "cell_type": "markdown",
   "metadata": {},
   "source": [
    "Finding row length.\n",
    "\n",
    "Karena pada data yang di scrap hanya ada satu key yaitu 'td', maka length data akan dibagi dengan jumlah kolom yang ada yaitu 4."
   ]
  },
  {
   "cell_type": "code",
   "execution_count": 9,
   "metadata": {},
   "outputs": [],
   "source": [
    "row = table.find_all('td')\n",
    "row_length = int(len(row)/4)"
   ]
  },
  {
   "cell_type": "code",
   "execution_count": 10,
   "metadata": {},
   "outputs": [
    {
     "data": {
      "text/plain": [
       "129"
      ]
     },
     "execution_count": 10,
     "metadata": {},
     "output_type": "execute_result"
    }
   ],
   "source": [
    "row_length"
   ]
  },
  {
   "cell_type": "markdown",
   "metadata": {},
   "source": [
    "Do the scrapping process here.\n",
    "\n",
    "Pada proses scrapping akan dilakukan looping menggunakan metode for sesuai dengan range jumlah barisnya, selanjutnya masing-masing data akan diambil berdasarkan kolomnya dengan menggunakan kelipatan nya, atau biasa disebut dengan pola aritmatika karena jumlah perbedaannya selalu sama yaitu setiap 4 angka."
   ]
  },
  {
   "cell_type": "code",
   "execution_count": 11,
   "metadata": {
    "ExecuteTime": {
     "end_time": "2020-01-13T05:12:24.008256Z",
     "start_time": "2020-01-13T05:12:23.980358Z"
    }
   },
   "outputs": [
    {
     "data": {
      "text/plain": [
       "[('1/6/2022', '14,387.13904'),\n",
       " ('1/5/2022', '14,376.59427'),\n",
       " ('1/4/2022', '14,306.22137'),\n",
       " ('1/3/2022', '14,271.10676'),\n",
       " ('12/31/2021', '14,184.77099'),\n",
       " ('12/30/2021', '14,249.76380'),\n",
       " ('12/29/2021', '14,198.28676'),\n",
       " ('12/28/2021', '14,221.34174'),\n",
       " ('12/27/2021', '14,227.31928'),\n",
       " ('12/24/2021', '14,264.51755'),\n",
       " ('12/23/2021', '14,256.89960'),\n",
       " ('12/22/2021', '14,298.20378'),\n",
       " ('12/21/2021', '14,304.01234'),\n",
       " ('12/20/2021', '14,382.49273'),\n",
       " ('12/17/2021', '14,389.66562'),\n",
       " ('12/16/2021', '14,330.91366'),\n",
       " ('12/15/2021', '14,251.62584'),\n",
       " ('12/14/2021', '14,341.93227'),\n",
       " ('12/13/2021', '14,357.75629'),\n",
       " ('12/10/2021', '14,370.27875'),\n",
       " ('12/9/2021', '14,344.97904'),\n",
       " ('12/8/2021', '14,370.91961'),\n",
       " ('12/7/2021', '14,347.32452'),\n",
       " ('12/6/2021', '14,432.56943'),\n",
       " ('12/3/2021', '14,389.50020'),\n",
       " ('12/2/2021', '14,392.39767'),\n",
       " ('12/1/2021', '14,347.93748'),\n",
       " ('11/30/2021', '14,353.30743'),\n",
       " ('11/29/2021', '14,295.39385'),\n",
       " ('11/26/2021', '14,300.35336'),\n",
       " ('11/25/2021', '14,283.22294'),\n",
       " ('11/24/2021', '14,320.08606'),\n",
       " ('11/23/2021', '14,259.04525'),\n",
       " ('11/22/2021', '14,243.50566'),\n",
       " ('11/19/2021', '14,243.55587'),\n",
       " ('11/18/2021', '14,225.41528'),\n",
       " ('11/17/2021', '14,246.59228'),\n",
       " ('11/16/2021', '14,222.37140'),\n",
       " ('11/15/2021', '14,235.75523'),\n",
       " ('11/12/2021', '14,233.63534'),\n",
       " ('11/11/2021', '14,288.84762'),\n",
       " ('11/10/2021', '14,271.96265'),\n",
       " ('11/9/2021', '14,243.01887'),\n",
       " ('11/8/2021', '14,257.97264'),\n",
       " ('11/5/2021', '14,338.39761'),\n",
       " ('11/4/2021', '14,334.06331'),\n",
       " ('11/3/2021', '14,256.74541'),\n",
       " ('11/2/2021', '14,256.29202'),\n",
       " ('11/1/2021', '14,233.76847'),\n",
       " ('10/29/2021', '14,288.95452'),\n",
       " ('10/28/2021', '14,175.29082'),\n",
       " ('10/27/2021', '14,141.55342'),\n",
       " ('10/26/2021', '14,166.19588'),\n",
       " ('10/25/2021', '14,152.60477'),\n",
       " ('10/22/2021', '14,110.21079'),\n",
       " ('10/21/2021', '14,121.60389'),\n",
       " ('10/20/2021', '14,079.51380'),\n",
       " ('10/19/2021', '14,075.46229'),\n",
       " ('10/18/2021', '14,056.43762'),\n",
       " ('10/15/2021', '14,070.19147'),\n",
       " ('10/14/2021', '14,105.27223'),\n",
       " ('10/13/2021', '14,204.85164'),\n",
       " ('10/12/2021', '14,214.84450'),\n",
       " ('10/11/2021', '14,220.90165'),\n",
       " ('10/8/2021', '14,217.98083'),\n",
       " ('10/7/2021', '14,248.99612'),\n",
       " ('10/6/2021', '14,245.00000'),\n",
       " ('10/5/2021', '14,260.00000'),\n",
       " ('10/4/2021', '14,262.54265'),\n",
       " ('10/1/2021', '14,293.86378'),\n",
       " ('9/30/2021', '14,298.48079'),\n",
       " ('9/29/2021', '14,367.73186'),\n",
       " ('9/28/2021', '14,271.16497'),\n",
       " ('9/27/2021', '14,264.68406'),\n",
       " ('9/24/2021', '14,272.18430'),\n",
       " ('9/23/2021', '14,242.87856'),\n",
       " ('9/22/2021', '14,299.15334'),\n",
       " ('9/21/2021', '14,238.62381'),\n",
       " ('9/20/2021', '14,235.10302'),\n",
       " ('9/17/2021', '14,293.12609'),\n",
       " ('9/16/2021', '14,250.19893'),\n",
       " ('9/15/2021', '14,235.96566'),\n",
       " ('9/14/2021', '14,244.84504'),\n",
       " ('9/13/2021', '14,298.65671'),\n",
       " ('9/10/2021', '14,226.67070'),\n",
       " ('9/9/2021', '14,260.57530'),\n",
       " ('9/8/2021', '14,251.89711'),\n",
       " ('9/7/2021', '14,249.33912'),\n",
       " ('9/6/2021', '14,214.47321'),\n",
       " ('9/3/2021', '14,251.87392'),\n",
       " ('9/2/2021', '14,248.52165'),\n",
       " ('9/1/2021', '14,257.71231'),\n",
       " ('8/31/2021', '14,296.13264'),\n",
       " ('8/30/2021', '14,367.01609'),\n",
       " ('8/27/2021', '14,368.74436'),\n",
       " ('8/26/2021', '14,415.01986'),\n",
       " ('8/25/2021', '14,386.20000'),\n",
       " ('8/24/2021', '14,379.34070'),\n",
       " ('8/23/2021', '14,400.21794'),\n",
       " ('8/20/2021', '14,460.04574'),\n",
       " ('8/19/2021', '14,411.77604'),\n",
       " ('8/18/2021', '14,372.20861'),\n",
       " ('8/17/2021', '14,439.92418'),\n",
       " ('8/16/2021', '14,376.39296'),\n",
       " ('8/13/2021', '14,327.19776'),\n",
       " ('8/12/2021', '14,387.28127'),\n",
       " ('8/11/2021', '14,385.48676'),\n",
       " ('8/10/2021', '14,379.25224'),\n",
       " ('8/9/2021', '14,363.60538'),\n",
       " ('8/6/2021', '14,403.07373'),\n",
       " ('8/5/2021', '14,315.95314'),\n",
       " ('8/4/2021', '14,313.11092'),\n",
       " ('8/3/2021', '14,391.49693'),\n",
       " ('8/2/2021', '14,445.82502'),\n",
       " ('7/30/2021', '14,501.55250'),\n",
       " ('7/29/2021', '14,467.14994'),\n",
       " ('7/28/2021', '14,414.21667'),\n",
       " ('7/27/2021', '14,468.66842'),\n",
       " ('7/26/2021', '14,487.54718'),\n",
       " ('7/23/2021', '14,492.63051'),\n",
       " ('7/22/2021', '14,508.09177'),\n",
       " ('7/21/2021', '14,495.34596'),\n",
       " ('7/20/2021', '14,514.10964'),\n",
       " ('7/19/2021', '14,490.12260'),\n",
       " ('7/16/2021', '14,495.41215'),\n",
       " ('7/15/2021', '14,469.95831'),\n",
       " ('7/14/2021', '14,404.17703'),\n",
       " ('7/13/2021', '14,476.52203'),\n",
       " ('7/12/2021', '14,491.59294')]"
      ]
     },
     "execution_count": 11,
     "metadata": {},
     "output_type": "execute_result"
    }
   ],
   "source": [
    "temp = [] #initiating a tuple\n",
    "\n",
    "for i in range(0, row_length):\n",
    "\n",
    "    #scrapping process\n",
    "    # Mengambil data tanggal, dimulai dari index ke 0(kolom 1) dan ditambah setiap lipatan 4 (karena ada 4 kolom)\n",
    "    tanggal = row[0+(i)*4].text\n",
    "    #print(tanggal)\n",
    "    # Mengambil data harga harian, dimulai dari index ke 2(kolom 3) dan ditambah setiap lipatan 4 (karena ada 4 kolom)\n",
    "    harga_harian = row[2+(i)*4].text[:-4]\n",
    "    #print(harga_harian)\n",
    "    # Menyimpan kedalam temp sebagai list\n",
    "    temp.append((tanggal, harga_harian))\n",
    "temp "
   ]
  },
  {
   "cell_type": "code",
   "execution_count": 12,
   "metadata": {},
   "outputs": [
    {
     "data": {
      "text/plain": [
       "list"
      ]
     },
     "execution_count": 12,
     "metadata": {},
     "output_type": "execute_result"
    }
   ],
   "source": [
    "type(temp)"
   ]
  },
  {
   "cell_type": "markdown",
   "metadata": {},
   "source": [
    "Membalikan pola data agar terurut dari data terlama hingga data terbaru."
   ]
  },
  {
   "cell_type": "code",
   "execution_count": 13,
   "metadata": {},
   "outputs": [
    {
     "data": {
      "text/plain": [
       "[('7/12/2021', '14,491.59294'),\n",
       " ('7/13/2021', '14,476.52203'),\n",
       " ('7/14/2021', '14,404.17703'),\n",
       " ('7/15/2021', '14,469.95831'),\n",
       " ('7/16/2021', '14,495.41215'),\n",
       " ('7/19/2021', '14,490.12260'),\n",
       " ('7/20/2021', '14,514.10964'),\n",
       " ('7/21/2021', '14,495.34596'),\n",
       " ('7/22/2021', '14,508.09177'),\n",
       " ('7/23/2021', '14,492.63051')]"
      ]
     },
     "execution_count": 13,
     "metadata": {},
     "output_type": "execute_result"
    }
   ],
   "source": [
    "temp = temp[::-1]\n",
    "temp[:10]"
   ]
  },
  {
   "cell_type": "markdown",
   "metadata": {},
   "source": [
    "## Creating data frame & Data wrangling"
   ]
  },
  {
   "cell_type": "markdown",
   "metadata": {},
   "source": [
    "Put the array into dataframe. Membuat dataframe dengan nama df."
   ]
  },
  {
   "cell_type": "code",
   "execution_count": 14,
   "metadata": {
    "ExecuteTime": {
     "end_time": "2020-01-13T05:12:41.517372Z",
     "start_time": "2020-01-13T05:12:29.130015Z"
    }
   },
   "outputs": [
    {
     "data": {
      "text/html": [
       "<div>\n",
       "<style scoped>\n",
       "    .dataframe tbody tr th:only-of-type {\n",
       "        vertical-align: middle;\n",
       "    }\n",
       "\n",
       "    .dataframe tbody tr th {\n",
       "        vertical-align: top;\n",
       "    }\n",
       "\n",
       "    .dataframe thead th {\n",
       "        text-align: right;\n",
       "    }\n",
       "</style>\n",
       "<table border=\"1\" class=\"dataframe\">\n",
       "  <thead>\n",
       "    <tr style=\"text-align: right;\">\n",
       "      <th></th>\n",
       "      <th>Date</th>\n",
       "      <th>Daily_Price</th>\n",
       "    </tr>\n",
       "  </thead>\n",
       "  <tbody>\n",
       "    <tr>\n",
       "      <th>0</th>\n",
       "      <td>7/12/2021</td>\n",
       "      <td>14,491.59294</td>\n",
       "    </tr>\n",
       "    <tr>\n",
       "      <th>1</th>\n",
       "      <td>7/13/2021</td>\n",
       "      <td>14,476.52203</td>\n",
       "    </tr>\n",
       "    <tr>\n",
       "      <th>2</th>\n",
       "      <td>7/14/2021</td>\n",
       "      <td>14,404.17703</td>\n",
       "    </tr>\n",
       "    <tr>\n",
       "      <th>3</th>\n",
       "      <td>7/15/2021</td>\n",
       "      <td>14,469.95831</td>\n",
       "    </tr>\n",
       "    <tr>\n",
       "      <th>4</th>\n",
       "      <td>7/16/2021</td>\n",
       "      <td>14,495.41215</td>\n",
       "    </tr>\n",
       "  </tbody>\n",
       "</table>\n",
       "</div>"
      ],
      "text/plain": [
       "        Date   Daily_Price\n",
       "0  7/12/2021  14,491.59294\n",
       "1  7/13/2021  14,476.52203\n",
       "2  7/14/2021  14,404.17703\n",
       "3  7/15/2021  14,469.95831\n",
       "4  7/16/2021  14,495.41215"
      ]
     },
     "execution_count": 14,
     "metadata": {},
     "output_type": "execute_result"
    }
   ],
   "source": [
    "import pandas as pd\n",
    "\n",
    "df = pd.DataFrame(temp, columns = ('Date', 'Daily_Price'))\n",
    "df.head()"
   ]
  },
  {
   "cell_type": "markdown",
   "metadata": {},
   "source": [
    "Menghitung banyak baris dan kolom."
   ]
  },
  {
   "cell_type": "code",
   "execution_count": 15,
   "metadata": {},
   "outputs": [
    {
     "name": "stdout",
     "output_type": "stream",
     "text": [
      "Terdapat 129 baris dan 2 kolom\n"
     ]
    }
   ],
   "source": [
    "df.shape\n",
    "print(\"Terdapat \"+str(df.shape[0])+\" baris dan \"+str(df.shape[1])+\" kolom\")"
   ]
  },
  {
   "cell_type": "markdown",
   "metadata": {},
   "source": [
    "Cek nilai unique, agar memastikan tidak ada data duplicate."
   ]
  },
  {
   "cell_type": "code",
   "execution_count": 16,
   "metadata": {},
   "outputs": [
    {
     "data": {
      "text/plain": [
       "Date           129\n",
       "Daily_Price    129\n",
       "dtype: int64"
      ]
     },
     "execution_count": 16,
     "metadata": {},
     "output_type": "execute_result"
    }
   ],
   "source": [
    "df.nunique()"
   ]
  },
  {
   "cell_type": "code",
   "execution_count": 17,
   "metadata": {},
   "outputs": [
    {
     "data": {
      "text/plain": [
       "0"
      ]
     },
     "execution_count": 17,
     "metadata": {},
     "output_type": "execute_result"
    }
   ],
   "source": [
    "df.duplicated().sum()"
   ]
  },
  {
   "cell_type": "markdown",
   "metadata": {},
   "source": [
    "Tidak terdapat nilai data yang duplicate."
   ]
  },
  {
   "cell_type": "markdown",
   "metadata": {},
   "source": [
    "Do the data cleaning here "
   ]
  },
  {
   "cell_type": "markdown",
   "metadata": {},
   "source": [
    "Dengan menggunakan df.info() untuk mengecek detail dari data yang digunakan seperti tipe data dan memory yang digunakan."
   ]
  },
  {
   "cell_type": "code",
   "execution_count": 18,
   "metadata": {},
   "outputs": [
    {
     "name": "stdout",
     "output_type": "stream",
     "text": [
      "<class 'pandas.core.frame.DataFrame'>\n",
      "RangeIndex: 129 entries, 0 to 128\n",
      "Data columns (total 2 columns):\n",
      " #   Column       Non-Null Count  Dtype \n",
      "---  ------       --------------  ----- \n",
      " 0   Date         129 non-null    object\n",
      " 1   Daily_Price  129 non-null    object\n",
      "dtypes: object(2)\n",
      "memory usage: 2.1+ KB\n"
     ]
    }
   ],
   "source": [
    "df.info()"
   ]
  },
  {
   "cell_type": "markdown",
   "metadata": {},
   "source": [
    "Merubah kolom Daily_Price menjadi data float64 dan kolom Date menjadi datetime64."
   ]
  },
  {
   "cell_type": "code",
   "execution_count": 19,
   "metadata": {},
   "outputs": [
    {
     "name": "stdout",
     "output_type": "stream",
     "text": [
      "<class 'pandas.core.frame.DataFrame'>\n",
      "RangeIndex: 129 entries, 0 to 128\n",
      "Data columns (total 2 columns):\n",
      " #   Column       Non-Null Count  Dtype         \n",
      "---  ------       --------------  -----         \n",
      " 0   Date         129 non-null    datetime64[ns]\n",
      " 1   Daily_Price  129 non-null    float64       \n",
      "dtypes: datetime64[ns](1), float64(1)\n",
      "memory usage: 2.1 KB\n"
     ]
    }
   ],
   "source": [
    "df['Daily_Price'] = df['Daily_Price'].str.replace(\",\",\"\")\n",
    "df['Daily_Price'] = df['Daily_Price'].astype('float64')\n",
    "df['Date'] = df['Date'].astype('datetime64')\n",
    "df.info()"
   ]
  },
  {
   "cell_type": "markdown",
   "metadata": {},
   "source": [
    "Okee sekarang data sudah sesuai, selanjutnya membuat kolom Date sebagai index dari data. Namun sebelum itu akan dilakukan penyesuaian karena data yang didapat masih memiliki tanggal yang dilewat (mungkin karena hari libur sehingga tidak dicatat)."
   ]
  },
  {
   "cell_type": "code",
   "execution_count": 20,
   "metadata": {
    "ExecuteTime": {
     "end_time": "2020-01-13T05:12:59.165559Z",
     "start_time": "2020-01-13T05:12:58.910012Z"
    }
   },
   "outputs": [
    {
     "name": "stdout",
     "output_type": "stream",
     "text": [
      "Data mulai dari 2021-07-12 00:00:00 hingga 2022-01-06 00:00:00\n"
     ]
    }
   ],
   "source": [
    "#Tanggal\n",
    "awal = df['Date'].min() # tanggal awal/terlama\n",
    "akhir = df['Date'].max() # tanggal akhir/terbaru\n",
    "print(\"Data mulai dari \"+str(awal)+\" hingga \"+str(akhir))"
   ]
  },
  {
   "cell_type": "code",
   "execution_count": 21,
   "metadata": {},
   "outputs": [
    {
     "data": {
      "text/plain": [
       "DatetimeIndex(['2021-07-12', '2021-07-13', '2021-07-14', '2021-07-15',\n",
       "               '2021-07-16', '2021-07-17', '2021-07-18', '2021-07-19',\n",
       "               '2021-07-20', '2021-07-21',\n",
       "               ...\n",
       "               '2021-12-28', '2021-12-29', '2021-12-30', '2021-12-31',\n",
       "               '2022-01-01', '2022-01-02', '2022-01-03', '2022-01-04',\n",
       "               '2022-01-05', '2022-01-06'],\n",
       "              dtype='datetime64[ns]', length=179, freq='D')"
      ]
     },
     "execution_count": 21,
     "metadata": {},
     "output_type": "execute_result"
    }
   ],
   "source": [
    "pd.date_range(start=awal, end=akhir)"
   ]
  },
  {
   "cell_type": "markdown",
   "metadata": {},
   "source": [
    "Selanjutnya membuat kolom Date sebagai index dari data."
   ]
  },
  {
   "cell_type": "code",
   "execution_count": 22,
   "metadata": {},
   "outputs": [
    {
     "data": {
      "text/html": [
       "<div>\n",
       "<style scoped>\n",
       "    .dataframe tbody tr th:only-of-type {\n",
       "        vertical-align: middle;\n",
       "    }\n",
       "\n",
       "    .dataframe tbody tr th {\n",
       "        vertical-align: top;\n",
       "    }\n",
       "\n",
       "    .dataframe thead th {\n",
       "        text-align: right;\n",
       "    }\n",
       "</style>\n",
       "<table border=\"1\" class=\"dataframe\">\n",
       "  <thead>\n",
       "    <tr style=\"text-align: right;\">\n",
       "      <th></th>\n",
       "      <th>Daily_Price</th>\n",
       "    </tr>\n",
       "    <tr>\n",
       "      <th>Date</th>\n",
       "      <th></th>\n",
       "    </tr>\n",
       "  </thead>\n",
       "  <tbody>\n",
       "    <tr>\n",
       "      <th>2021-07-12</th>\n",
       "      <td>14491.59294</td>\n",
       "    </tr>\n",
       "    <tr>\n",
       "      <th>2021-07-13</th>\n",
       "      <td>14476.52203</td>\n",
       "    </tr>\n",
       "    <tr>\n",
       "      <th>2021-07-14</th>\n",
       "      <td>14404.17703</td>\n",
       "    </tr>\n",
       "    <tr>\n",
       "      <th>2021-07-15</th>\n",
       "      <td>14469.95831</td>\n",
       "    </tr>\n",
       "    <tr>\n",
       "      <th>2021-07-16</th>\n",
       "      <td>14495.41215</td>\n",
       "    </tr>\n",
       "    <tr>\n",
       "      <th>2021-07-19</th>\n",
       "      <td>14490.12260</td>\n",
       "    </tr>\n",
       "    <tr>\n",
       "      <th>2021-07-20</th>\n",
       "      <td>14514.10964</td>\n",
       "    </tr>\n",
       "    <tr>\n",
       "      <th>2021-07-21</th>\n",
       "      <td>14495.34596</td>\n",
       "    </tr>\n",
       "    <tr>\n",
       "      <th>2021-07-22</th>\n",
       "      <td>14508.09177</td>\n",
       "    </tr>\n",
       "    <tr>\n",
       "      <th>2021-07-23</th>\n",
       "      <td>14492.63051</td>\n",
       "    </tr>\n",
       "  </tbody>\n",
       "</table>\n",
       "</div>"
      ],
      "text/plain": [
       "            Daily_Price\n",
       "Date                   \n",
       "2021-07-12  14491.59294\n",
       "2021-07-13  14476.52203\n",
       "2021-07-14  14404.17703\n",
       "2021-07-15  14469.95831\n",
       "2021-07-16  14495.41215\n",
       "2021-07-19  14490.12260\n",
       "2021-07-20  14514.10964\n",
       "2021-07-21  14495.34596\n",
       "2021-07-22  14508.09177\n",
       "2021-07-23  14492.63051"
      ]
     },
     "execution_count": 22,
     "metadata": {},
     "output_type": "execute_result"
    }
   ],
   "source": [
    "df = df.set_index('Date')\n",
    "df.head(10)"
   ]
  },
  {
   "cell_type": "markdown",
   "metadata": {},
   "source": [
    "Selanjutnya index Date akan digantikan dengan index Date yang baru untuk mengisi tanggal yang dilewat."
   ]
  },
  {
   "cell_type": "code",
   "execution_count": 23,
   "metadata": {},
   "outputs": [
    {
     "data": {
      "text/html": [
       "<div>\n",
       "<style scoped>\n",
       "    .dataframe tbody tr th:only-of-type {\n",
       "        vertical-align: middle;\n",
       "    }\n",
       "\n",
       "    .dataframe tbody tr th {\n",
       "        vertical-align: top;\n",
       "    }\n",
       "\n",
       "    .dataframe thead th {\n",
       "        text-align: right;\n",
       "    }\n",
       "</style>\n",
       "<table border=\"1\" class=\"dataframe\">\n",
       "  <thead>\n",
       "    <tr style=\"text-align: right;\">\n",
       "      <th></th>\n",
       "      <th>Daily_Price</th>\n",
       "    </tr>\n",
       "  </thead>\n",
       "  <tbody>\n",
       "    <tr>\n",
       "      <th>2021-07-12</th>\n",
       "      <td>14491.59294</td>\n",
       "    </tr>\n",
       "    <tr>\n",
       "      <th>2021-07-13</th>\n",
       "      <td>14476.52203</td>\n",
       "    </tr>\n",
       "    <tr>\n",
       "      <th>2021-07-14</th>\n",
       "      <td>14404.17703</td>\n",
       "    </tr>\n",
       "    <tr>\n",
       "      <th>2021-07-15</th>\n",
       "      <td>14469.95831</td>\n",
       "    </tr>\n",
       "    <tr>\n",
       "      <th>2021-07-16</th>\n",
       "      <td>14495.41215</td>\n",
       "    </tr>\n",
       "    <tr>\n",
       "      <th>2021-07-17</th>\n",
       "      <td>NaN</td>\n",
       "    </tr>\n",
       "    <tr>\n",
       "      <th>2021-07-18</th>\n",
       "      <td>NaN</td>\n",
       "    </tr>\n",
       "    <tr>\n",
       "      <th>2021-07-19</th>\n",
       "      <td>14490.12260</td>\n",
       "    </tr>\n",
       "    <tr>\n",
       "      <th>2021-07-20</th>\n",
       "      <td>14514.10964</td>\n",
       "    </tr>\n",
       "    <tr>\n",
       "      <th>2021-07-21</th>\n",
       "      <td>14495.34596</td>\n",
       "    </tr>\n",
       "  </tbody>\n",
       "</table>\n",
       "</div>"
      ],
      "text/plain": [
       "            Daily_Price\n",
       "2021-07-12  14491.59294\n",
       "2021-07-13  14476.52203\n",
       "2021-07-14  14404.17703\n",
       "2021-07-15  14469.95831\n",
       "2021-07-16  14495.41215\n",
       "2021-07-17          NaN\n",
       "2021-07-18          NaN\n",
       "2021-07-19  14490.12260\n",
       "2021-07-20  14514.10964\n",
       "2021-07-21  14495.34596"
      ]
     },
     "execution_count": 23,
     "metadata": {},
     "output_type": "execute_result"
    }
   ],
   "source": [
    "kurs = df\n",
    "index_date = pd.date_range(start=awal, end=akhir)\n",
    "kurs = kurs.reindex(index_date)\n",
    "kurs.head(10)"
   ]
  },
  {
   "cell_type": "markdown",
   "metadata": {},
   "source": [
    "Karena memasukan tanggal baru, selanjutnya saya akan mengecek berapakah barir yang kosong (NaN). Kemudian saya memasukan nilai yang kosong (NaN) dengan nilai harga pada tanggal sebelumnya."
   ]
  },
  {
   "cell_type": "code",
   "execution_count": 24,
   "metadata": {},
   "outputs": [
    {
     "data": {
      "text/plain": [
       "Daily_Price    50\n",
       "dtype: int64"
      ]
     },
     "execution_count": 24,
     "metadata": {},
     "output_type": "execute_result"
    }
   ],
   "source": [
    "kurs.isna().sum()"
   ]
  },
  {
   "cell_type": "code",
   "execution_count": 25,
   "metadata": {},
   "outputs": [
    {
     "data": {
      "text/html": [
       "<div>\n",
       "<style scoped>\n",
       "    .dataframe tbody tr th:only-of-type {\n",
       "        vertical-align: middle;\n",
       "    }\n",
       "\n",
       "    .dataframe tbody tr th {\n",
       "        vertical-align: top;\n",
       "    }\n",
       "\n",
       "    .dataframe thead th {\n",
       "        text-align: right;\n",
       "    }\n",
       "</style>\n",
       "<table border=\"1\" class=\"dataframe\">\n",
       "  <thead>\n",
       "    <tr style=\"text-align: right;\">\n",
       "      <th></th>\n",
       "      <th>Daily_Price</th>\n",
       "    </tr>\n",
       "  </thead>\n",
       "  <tbody>\n",
       "    <tr>\n",
       "      <th>2021-07-12</th>\n",
       "      <td>14491.59294</td>\n",
       "    </tr>\n",
       "    <tr>\n",
       "      <th>2021-07-13</th>\n",
       "      <td>14476.52203</td>\n",
       "    </tr>\n",
       "    <tr>\n",
       "      <th>2021-07-14</th>\n",
       "      <td>14404.17703</td>\n",
       "    </tr>\n",
       "    <tr>\n",
       "      <th>2021-07-15</th>\n",
       "      <td>14469.95831</td>\n",
       "    </tr>\n",
       "    <tr>\n",
       "      <th>2021-07-16</th>\n",
       "      <td>14495.41215</td>\n",
       "    </tr>\n",
       "    <tr>\n",
       "      <th>2021-07-17</th>\n",
       "      <td>14495.41215</td>\n",
       "    </tr>\n",
       "    <tr>\n",
       "      <th>2021-07-18</th>\n",
       "      <td>14495.41215</td>\n",
       "    </tr>\n",
       "    <tr>\n",
       "      <th>2021-07-19</th>\n",
       "      <td>14490.12260</td>\n",
       "    </tr>\n",
       "    <tr>\n",
       "      <th>2021-07-20</th>\n",
       "      <td>14514.10964</td>\n",
       "    </tr>\n",
       "    <tr>\n",
       "      <th>2021-07-21</th>\n",
       "      <td>14495.34596</td>\n",
       "    </tr>\n",
       "  </tbody>\n",
       "</table>\n",
       "</div>"
      ],
      "text/plain": [
       "            Daily_Price\n",
       "2021-07-12  14491.59294\n",
       "2021-07-13  14476.52203\n",
       "2021-07-14  14404.17703\n",
       "2021-07-15  14469.95831\n",
       "2021-07-16  14495.41215\n",
       "2021-07-17  14495.41215\n",
       "2021-07-18  14495.41215\n",
       "2021-07-19  14490.12260\n",
       "2021-07-20  14514.10964\n",
       "2021-07-21  14495.34596"
      ]
     },
     "execution_count": 25,
     "metadata": {},
     "output_type": "execute_result"
    }
   ],
   "source": [
    "kurs = kurs.fillna(method='ffill')\n",
    "kurs.head(10)"
   ]
  },
  {
   "cell_type": "markdown",
   "metadata": {},
   "source": [
    "Sip, data yang kosong (NaN) sudah terisi. Dari sini kita sudah bisa memulai untuk mengolah datanya."
   ]
  },
  {
   "cell_type": "markdown",
   "metadata": {},
   "source": [
    "## Data visualisation\n",
    "Pada data visualisation saya akan membuat plot garis untuk melihat trend dan perubahan nilai kurs antara Indonesia (IDR) dan Dolar Amerika Serikat (USD)."
   ]
  },
  {
   "cell_type": "code",
   "execution_count": 26,
   "metadata": {},
   "outputs": [
    {
     "data": {
      "image/png": "[encoded data removed]",
      "text/plain": [
       "<Figure size 1440x648 with 1 Axes>"
      ]
     },
     "metadata": {
      "needs_background": "light"
     },
     "output_type": "display_data"
    }
   ],
   "source": [
    "kurs.plot(title=\"Historical Exchange Rates between the Indonesian Rupiah (IDR) and the US Dollar (USD)\", figsize=(20,9));"
   ]
  },
  {
   "cell_type": "markdown",
   "metadata": {},
   "source": [
    "### Implementing your webscrapping to the flask dashboard\n",
    "\n",
    "- Copy paste all of your web scrapping process to the desired position on the `app.py`\n",
    "- Changing the title of the dasboard at `index.html`"
   ]
  },
  {
   "cell_type": "markdown",
   "metadata": {},
   "source": [
    "## Finishing This Notebook with Your Analysis and Conclusion\n",
    "\n",
    "First you can do start with making the data visualisation. "
   ]
  },
  {
   "cell_type": "code",
   "execution_count": 27,
   "metadata": {
    "ExecuteTime": {
     "end_time": "2020-01-13T05:20:56.208237Z",
     "start_time": "2020-01-13T05:20:56.076043Z"
    }
   },
   "outputs": [
    {
     "data": {
      "image/png": "[encoded data removed]",
      "text/plain": [
       "<Figure size 1440x648 with 1 Axes>"
      ]
     },
     "metadata": {
      "needs_background": "light"
     },
     "output_type": "display_data"
    }
   ],
   "source": [
    "kurs.plot(title=\"Historical Exchange Rates between the Indonesian Rupiah (IDR) and the US Dollar (USD)\", figsize=(20,9));"
   ]
  },
  {
   "cell_type": "markdown",
   "metadata": {},
   "source": [
    "## Kesimpulan\n",
    "- Data dari \"Historical Exchange Rates between the Indonesian Rupiah (IDR) and the US Dollar (USD)\" mengalami fluktuasi yang  beragam dan sulit untuk melihat pola bulanan maupun pola keseluruhannya.\n",
    "- Dari hasil plot diatas, dapat kita simpulkan bahwa nilai Kurs terendah berada pada akhir oktober/awal november, hal ini dapat terlihat dari plot yang mengalami penurunan. (Tepatnya:2021-10-18, cek pada Tambahan)\n",
    "- Nilai kurs tertinggi berada pada awal plot, atau sekitar bulan Juli hingga Agustus. (Tepatnya:2021-07-20, cek pada Tambahan)"
   ]
  },
  {
   "cell_type": "code",
   "execution_count": 28,
   "metadata": {},
   "outputs": [
    {
     "data": {
      "text/html": [
       "<div>\n",
       "<style scoped>\n",
       "    .dataframe tbody tr th:only-of-type {\n",
       "        vertical-align: middle;\n",
       "    }\n",
       "\n",
       "    .dataframe tbody tr th {\n",
       "        vertical-align: top;\n",
       "    }\n",
       "\n",
       "    .dataframe thead th {\n",
       "        text-align: right;\n",
       "    }\n",
       "</style>\n",
       "<table border=\"1\" class=\"dataframe\">\n",
       "  <thead>\n",
       "    <tr style=\"text-align: right;\">\n",
       "      <th></th>\n",
       "      <th>Daily_Price</th>\n",
       "    </tr>\n",
       "  </thead>\n",
       "  <tbody>\n",
       "    <tr>\n",
       "      <th>2021-10-18</th>\n",
       "      <td>14056.43762</td>\n",
       "    </tr>\n",
       "  </tbody>\n",
       "</table>\n",
       "</div>"
      ],
      "text/plain": [
       "            Daily_Price\n",
       "2021-10-18  14056.43762"
      ]
     },
     "execution_count": 28,
     "metadata": {},
     "output_type": "execute_result"
    }
   ],
   "source": [
    "#Tambahan\n",
    "NilaiTerendah = kurs[kurs[\"Daily_Price\"] == kurs[\"Daily_Price\"].min()]\n",
    "NilaiTerendah"
   ]
  },
  {
   "cell_type": "code",
   "execution_count": 29,
   "metadata": {},
   "outputs": [
    {
     "data": {
      "text/html": [
       "<div>\n",
       "<style scoped>\n",
       "    .dataframe tbody tr th:only-of-type {\n",
       "        vertical-align: middle;\n",
       "    }\n",
       "\n",
       "    .dataframe tbody tr th {\n",
       "        vertical-align: top;\n",
       "    }\n",
       "\n",
       "    .dataframe thead th {\n",
       "        text-align: right;\n",
       "    }\n",
       "</style>\n",
       "<table border=\"1\" class=\"dataframe\">\n",
       "  <thead>\n",
       "    <tr style=\"text-align: right;\">\n",
       "      <th></th>\n",
       "      <th>Daily_Price</th>\n",
       "    </tr>\n",
       "  </thead>\n",
       "  <tbody>\n",
       "    <tr>\n",
       "      <th>2021-07-20</th>\n",
       "      <td>14514.10964</td>\n",
       "    </tr>\n",
       "  </tbody>\n",
       "</table>\n",
       "</div>"
      ],
      "text/plain": [
       "            Daily_Price\n",
       "2021-07-20  14514.10964"
      ]
     },
     "execution_count": 29,
     "metadata": {},
     "output_type": "execute_result"
    }
   ],
   "source": [
    "#Tambahan\n",
    "NilaiTertinggi = kurs[kurs[\"Daily_Price\"] == kurs[\"Daily_Price\"].max()]\n",
    "NilaiTertinggi"
   ]
  },
  {
   "cell_type": "markdown",
   "metadata": {},
   "source": [
    "### Extra Challange\n",
    "\n",
    "This will be not included to the scoring. \n",
    "\n",
    "- You can create additional analysis from the data.\n",
    "- Implement it to the dashboard with at `app.py` dan `index.html`."
   ]
  }
 ],
 "metadata": {
  "kernelspec": {
   "display_name": "qoppa-da",
   "language": "python",
   "name": "qoppa-da"
  },
  "language_info": {
   "codemirror_mode": {
    "name": "ipython",
    "version": 3
   },
   "file_extension": ".py",
   "mimetype": "text/x-python",
   "name": "python",
   "nbconvert_exporter": "python",
   "pygments_lexer": "ipython3",
   "version": "3.9.7"
  }
 },
 "nbformat": 4,
 "nbformat_minor": 2
}
